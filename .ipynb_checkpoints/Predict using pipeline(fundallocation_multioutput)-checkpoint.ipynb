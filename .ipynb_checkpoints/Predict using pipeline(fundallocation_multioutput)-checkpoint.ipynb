{
 "cells": [
  {
   "cell_type": "code",
   "execution_count": 1,
   "id": "4561c333-bcf5-4481-9af6-94cd5762b8ae",
   "metadata": {},
   "outputs": [],
   "source": [
    "import pandas as pd\n",
    "import numpy as np"
   ]
  },
  {
   "cell_type": "code",
   "execution_count": 2,
   "id": "bd91f004-bbcd-496e-9d3e-5bc0cf1f90b3",
   "metadata": {},
   "outputs": [],
   "source": [
    "import joblib\n",
    "\n",
    "# Load the model saved with joblib\n",
    "final_model = joblib.load('Fund_Allocation.joblib')"
   ]
  },
  {
   "cell_type": "code",
   "execution_count": 3,
   "id": "fe3cf0eb-d846-4fef-8864-a6098ecd2865",
   "metadata": {},
   "outputs": [],
   "source": [
    "test_input = pd.DataFrame([\n",
    "    [100000, 26, 'Low', 1200000, 10, 10.00, 10.0,]  # Example values\n",
    "], columns=[\n",
    "    'Income',\n",
    "    'Age',\n",
    "    'Risk_Appetite',\n",
    "    'Net_Worth',\n",
    "    'Investment_Horizon',\n",
    "    'Expected_Return',\n",
    "    'Portfolio_Volatility'\n",
    "    \n",
    "])"
   ]
  },
  {
   "cell_type": "code",
   "execution_count": 4,
   "id": "07efdcb7-3410-4512-8f67-e717bde851ce",
   "metadata": {},
   "outputs": [
    {
     "name": "stdout",
     "output_type": "stream",
     "text": [
      "                        0\n",
      "Stock_Allocation  24.6927\n",
      "Bond_Allocation   32.6398\n",
      "FD_Allocation     20.7346\n",
      "ETF_Allocation     7.9873\n",
      "Cash_Allocation   14.8682\n",
      "Other_Allocation   5.2868\n"
     ]
    }
   ],
   "source": [
    "allocation_columns = [\n",
    "    'Stock_Allocation',\n",
    "    'Bond_Allocation',\n",
    "    'FD_Allocation',\n",
    "    'ETF_Allocation',\n",
    "    'Cash_Allocation',\n",
    "    'Other_Allocation'\n",
    "]\n",
    "y_pred=final_model.predict(test_input)\n",
    "\n",
    "y_pred_named = pd.DataFrame(y_pred, columns=allocation_columns)\n",
    "\n",
    "# Step 3: (Optional) Show as vertical list\n",
    "print(y_pred_named.T)"
   ]
  },
  {
   "cell_type": "code",
   "execution_count": null,
   "id": "5facb389-2140-4b93-b4de-bd0b6084f783",
   "metadata": {},
   "outputs": [],
   "source": []
  }
 ],
 "metadata": {
  "kernelspec": {
   "display_name": "Python 3 (ipykernel)",
   "language": "python",
   "name": "python3"
  },
  "language_info": {
   "codemirror_mode": {
    "name": "ipython",
    "version": 3
   },
   "file_extension": ".py",
   "mimetype": "text/x-python",
   "name": "python",
   "nbconvert_exporter": "python",
   "pygments_lexer": "ipython3",
   "version": "3.12.7"
  }
 },
 "nbformat": 4,
 "nbformat_minor": 5
}
