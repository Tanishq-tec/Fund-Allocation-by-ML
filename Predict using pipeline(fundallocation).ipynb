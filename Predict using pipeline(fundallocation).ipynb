{
 "cells": [
  {
   "cell_type": "code",
   "execution_count": 4,
   "id": "78ff51e2-fba4-4055-bf20-f413c163470d",
   "metadata": {},
   "outputs": [],
   "source": [
    "import pandas as pd\n",
    "import pickle\n",
    "import numpy as np"
   ]
  },
  {
   "cell_type": "code",
   "execution_count": 5,
   "id": "fbc03f7b-0087-4cff-ae7d-cc1465983584",
   "metadata": {},
   "outputs": [],
   "source": [
    "pipe = pickle.load(open('Fund_Allocation.pk3', 'rb'))"
   ]
  },
  {
   "cell_type": "code",
   "execution_count": 36,
   "id": "a4add9c9-8c75-4378-9f9e-bc3c9875729c",
   "metadata": {},
   "outputs": [],
   "source": [
    "test_input = pd.DataFrame([\n",
    "    [100000, 26, 'Low', 1200000, 10, 10.00, 10.0,]  # Example values\n",
    "], columns=[\n",
    "    'Income',\n",
    "    'Age',\n",
    "    'Risk_Appetite',\n",
    "    'Net_Worth',\n",
    "    'Investment_Horizon',\n",
    "    'Expected_Return',\n",
    "    'Portfolio_Volatility'\n",
    "    \n",
    "])"
   ]
  },
  {
   "cell_type": "code",
   "execution_count": 37,
   "id": "3ea3e787-3c44-4274-85b2-5eaccb91d298",
   "metadata": {},
   "outputs": [
    {
     "name": "stdout",
     "output_type": "stream",
     "text": [
      "Pipeline(steps=[('trf2',\n",
      "                 ColumnTransformer(remainder='passthrough',\n",
      "                                   transformers=[('log',\n",
      "                                                  FunctionTransformer(func=<ufunc 'log1p'>),\n",
      "                                                  ['Income', 'Net_Worth',\n",
      "                                                   'Expected_Return',\n",
      "                                                   'Portfolio_Volatility']),\n",
      "                                                 ('binning',\n",
      "                                                  KBinsDiscretizer(encode='ordinal',\n",
      "                                                                   strategy='uniform'),\n",
      "                                                  ['Investment_Horizon']),\n",
      "                                                 ('ordinal',\n",
      "                                                  OrdinalEncoder(categories=[['Low',\n",
      "                                                                              'Medium',\n",
      "                                                                              'High']]),\n",
      "                                                  ['Risk_Appetite']),\n",
      "                                                 ('scale', StandardScaler(),\n",
      "                                                  ['Age'])])),\n",
      "                ('trf3', LinearRegression())])\n"
     ]
    }
   ],
   "source": [
    "print(pipe)"
   ]
  },
  {
   "cell_type": "code",
   "execution_count": 38,
   "id": "30ebce5c-a73c-449c-9b0a-6c72c2bfc07c",
   "metadata": {},
   "outputs": [
    {
     "name": "stdout",
     "output_type": "stream",
     "text": [
      "                          0\n",
      "Stock_Allocation  30.087532\n",
      "Bond_Allocation   26.819571\n",
      "FD_Allocation     16.816298\n",
      "ETF_Allocation    11.143325\n",
      "Cash_Allocation   11.688217\n",
      "Other_Allocation   3.445393\n"
     ]
    }
   ],
   "source": [
    "allocation_columns = [\n",
    "    'Stock_Allocation',\n",
    "    'Bond_Allocation',\n",
    "    'FD_Allocation',\n",
    "    'ETF_Allocation',\n",
    "    'Cash_Allocation',\n",
    "    'Other_Allocation'\n",
    "]\n",
    "y_pred=pipe.predict(test_input)\n",
    "\n",
    "y_pred_named = pd.DataFrame(y_pred, columns=allocation_columns)\n",
    "\n",
    "# Step 3: (Optional) Show as vertical list\n",
    "print(y_pred_named.T)"
   ]
  },
  {
   "cell_type": "code",
   "execution_count": null,
   "id": "e246974a-8a6f-412a-b7b4-3dc33d792b8e",
   "metadata": {},
   "outputs": [],
   "source": []
  }
 ],
 "metadata": {
  "kernelspec": {
   "display_name": "Python 3 (ipykernel)",
   "language": "python",
   "name": "python3"
  },
  "language_info": {
   "codemirror_mode": {
    "name": "ipython",
    "version": 3
   },
   "file_extension": ".py",
   "mimetype": "text/x-python",
   "name": "python",
   "nbconvert_exporter": "python",
   "pygments_lexer": "ipython3",
   "version": "3.12.7"
  }
 },
 "nbformat": 4,
 "nbformat_minor": 5
}
