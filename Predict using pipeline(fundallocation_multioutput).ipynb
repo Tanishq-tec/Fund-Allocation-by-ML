{
 "cells": [
  {
   "cell_type": "code",
   "execution_count": 1,
   "id": "4561c333-bcf5-4481-9af6-94cd5762b8ae",
   "metadata": {},
   "outputs": [],
   "source": [
    "import pandas as pd\n",
    "import numpy as np"
   ]
  },
  {
   "cell_type": "code",
   "execution_count": 2,
   "id": "bd91f004-bbcd-496e-9d3e-5bc0cf1f90b3",
   "metadata": {},
   "outputs": [
    {
     "ename": "FileNotFoundError",
     "evalue": "[Errno 2] No such file or directory: 'Fund_Allocation.joblib'",
     "output_type": "error",
     "traceback": [
      "\u001b[1;31m---------------------------------------------------------------------------\u001b[0m",
      "\u001b[1;31mFileNotFoundError\u001b[0m                         Traceback (most recent call last)",
      "Cell \u001b[1;32mIn[2], line 4\u001b[0m\n\u001b[0;32m      1\u001b[0m \u001b[38;5;28;01mimport\u001b[39;00m \u001b[38;5;21;01mjoblib\u001b[39;00m\n\u001b[0;32m      3\u001b[0m \u001b[38;5;66;03m# Load the model saved with joblib\u001b[39;00m\n\u001b[1;32m----> 4\u001b[0m final_model \u001b[38;5;241m=\u001b[39m joblib\u001b[38;5;241m.\u001b[39mload(\u001b[38;5;124m'\u001b[39m\u001b[38;5;124mFund_Allocation.joblib\u001b[39m\u001b[38;5;124m'\u001b[39m)\n",
      "File \u001b[1;32m~\\anaconda3\\Lib\\site-packages\\joblib\\numpy_pickle.py:579\u001b[0m, in \u001b[0;36mload\u001b[1;34m(filename, mmap_mode)\u001b[0m\n\u001b[0;32m    577\u001b[0m         obj \u001b[38;5;241m=\u001b[39m _unpickle(fobj)\n\u001b[0;32m    578\u001b[0m \u001b[38;5;28;01melse\u001b[39;00m:\n\u001b[1;32m--> 579\u001b[0m     \u001b[38;5;28;01mwith\u001b[39;00m \u001b[38;5;28mopen\u001b[39m(filename, \u001b[38;5;124m'\u001b[39m\u001b[38;5;124mrb\u001b[39m\u001b[38;5;124m'\u001b[39m) \u001b[38;5;28;01mas\u001b[39;00m f:\n\u001b[0;32m    580\u001b[0m         \u001b[38;5;28;01mwith\u001b[39;00m _read_fileobject(f, filename, mmap_mode) \u001b[38;5;28;01mas\u001b[39;00m fobj:\n\u001b[0;32m    581\u001b[0m             \u001b[38;5;28;01mif\u001b[39;00m \u001b[38;5;28misinstance\u001b[39m(fobj, \u001b[38;5;28mstr\u001b[39m):\n\u001b[0;32m    582\u001b[0m                 \u001b[38;5;66;03m# if the returned file object is a string, this means we\u001b[39;00m\n\u001b[0;32m    583\u001b[0m                 \u001b[38;5;66;03m# try to load a pickle file generated with an version of\u001b[39;00m\n\u001b[0;32m    584\u001b[0m                 \u001b[38;5;66;03m# Joblib so we load it with joblib compatibility function.\u001b[39;00m\n",
      "\u001b[1;31mFileNotFoundError\u001b[0m: [Errno 2] No such file or directory: 'Fund_Allocation.joblib'"
     ]
    }
   ],
   "source": [
    "import joblib\n",
    "\n",
    "# Load the model saved with joblib\n",
    "final_model = joblib.load('Fund_Allocation.joblib')"
   ]
  },
  {
   "cell_type": "code",
   "execution_count": null,
   "id": "fe3cf0eb-d846-4fef-8864-a6098ecd2865",
   "metadata": {},
   "outputs": [],
   "source": [
    "test_input = pd.DataFrame([\n",
    "    [100000, 26, 'Low', 1200000, 10, 10.00, 10.0,]  # Example values\n",
    "], columns=[\n",
    "    'Income',\n",
    "    'Age',\n",
    "    'Risk_Appetite',\n",
    "    'Net_Worth',\n",
    "    'Investment_Horizon',\n",
    "    'Expected_Return',\n",
    "    'Portfolio_Volatility'\n",
    "    \n",
    "])"
   ]
  },
  {
   "cell_type": "code",
   "execution_count": null,
   "id": "07efdcb7-3410-4512-8f67-e717bde851ce",
   "metadata": {},
   "outputs": [],
   "source": [
    "allocation_columns = [\n",
    "    'Stock_Allocation',\n",
    "    'Bond_Allocation',\n",
    "    'FD_Allocation',\n",
    "    'ETF_Allocation',\n",
    "    'Cash_Allocation',\n",
    "    'Other_Allocation'\n",
    "]\n",
    "y_pred=final_model.predict(test_input)\n",
    "\n",
    "y_pred_named = pd.DataFrame(y_pred, columns=allocation_columns)\n",
    "\n",
    "# Step 3: (Optional) Show as vertical list\n",
    "print(y_pred_named.T)"
   ]
  },
  {
   "cell_type": "code",
   "execution_count": null,
   "id": "5facb389-2140-4b93-b4de-bd0b6084f783",
   "metadata": {},
   "outputs": [],
   "source": []
  }
 ],
 "metadata": {
  "kernelspec": {
   "display_name": "Python 3 (ipykernel)",
   "language": "python",
   "name": "python3"
  },
  "language_info": {
   "codemirror_mode": {
    "name": "ipython",
    "version": 3
   },
   "file_extension": ".py",
   "mimetype": "text/x-python",
   "name": "python",
   "nbconvert_exporter": "python",
   "pygments_lexer": "ipython3",
   "version": "3.12.7"
  }
 },
 "nbformat": 4,
 "nbformat_minor": 5
}
